{
 "cells": [
  {
   "cell_type": "code",
   "execution_count": 2,
   "metadata": {},
   "outputs": [],
   "source": [
    "from Bio import Entrez\n",
    "import os\n",
    "import pandas as pd\n",
    "from biopandas.pdb import PandasPdb\n",
    "## make sure biopandas is installed i.e. pip3 install biopandas\n",
    "ppdb = PandasPdb().fetch_pdb('3eiy')"
   ]
  },
  {
   "cell_type": "code",
   "execution_count": 3,
   "metadata": {},
   "outputs": [
    {
     "name": "stdout",
     "output_type": "stream",
     "text": [
      "PDB Header Line: \n",
      "\n",
      "Raw PDB file contents:\n",
      "\n",
      "HEADER    HYDROLASE                               17-SEP-08   3EIY              \n",
      "TITLE     CRYSTAL STRUCTURE OF INORGANIC PYROPHOSPHATASE FROM BURKHOLDERIA      \n",
      "TITLE    2 PSEUDOMALLEI WITH BOUND PYROPHOSPHATE                                \n",
      "COMPND    MOL_ID: 1;                                                            \n",
      "COMPND   2 MOLECULE: INORGANIC PYROPHOSPHATASE;                                 \n",
      "COMPND   3 CHAIN: A;                                                            \n",
      "COMPND   4 EC: 3.6.1.1;                                                         \n",
      "COMPND   5 ENGINEERED: YES                                                      \n",
      "SOURCE    MOL_ID: 1;                                                            \n",
      "SOURCE   2 ORGANISM_SCIENTIFIC: BURKHOLDERIA PSEUDOMALLEI 1710B;                \n",
      "SOURCE   3 ORGANISM_TAXID: 320372;                                              \n",
      "SOURCE   4 GENE: PPA, BURPS1710B_1237;                                          \n",
      "SOURCE   5 EXPRESSION_SYSTEM\n",
      "...\n"
     ]
    }
   ],
   "source": [
    "print('PDB Header Line: %s' % ppdb.header)\n",
    "print('\\nRaw PDB file contents:\\n\\n%s\\n...' % ppdb.pdb_text[:1000])"
   ]
  },
  {
   "cell_type": "code",
   "execution_count": 5,
   "metadata": {},
   "outputs": [],
   "source": [
    "ppdb.to_pdb(path='./data/3eiy.pdb', \n",
    "            records=None, \n",
    "            gz=False, \n",
    "            append_newline=True)"
   ]
  },
  {
   "cell_type": "code",
   "execution_count": 7,
   "metadata": {},
   "outputs": [
    {
     "name": "stdout",
     "output_type": "stream",
     "text": [
      "Collecting biopandas\n",
      "  Downloading biopandas-0.2.7-py2.py3-none-any.whl (263 kB)\n",
      "\u001b[K     |████████████████████████████████| 263 kB 2.0 MB/s eta 0:00:01\n",
      "\u001b[?25hRequirement already satisfied: pandas>=0.24.2 in /Users/astuart/opt/anaconda3/lib/python3.7/site-packages (from biopandas) (1.0.1)\n",
      "Requirement already satisfied: numpy>=1.16.2 in /Users/astuart/opt/anaconda3/lib/python3.7/site-packages (from biopandas) (1.18.1)\n",
      "Requirement already satisfied: setuptools in /Users/astuart/opt/anaconda3/lib/python3.7/site-packages (from biopandas) (46.0.0.post20200309)\n",
      "Requirement already satisfied: python-dateutil>=2.6.1 in /Users/astuart/opt/anaconda3/lib/python3.7/site-packages (from pandas>=0.24.2->biopandas) (2.8.1)\n",
      "Requirement already satisfied: pytz>=2017.2 in /Users/astuart/opt/anaconda3/lib/python3.7/site-packages (from pandas>=0.24.2->biopandas) (2019.3)\n",
      "Requirement already satisfied: six>=1.5 in /Users/astuart/opt/anaconda3/lib/python3.7/site-packages (from python-dateutil>=2.6.1->pandas>=0.24.2->biopandas) (1.14.0)\n",
      "Installing collected packages: biopandas\n",
      "Successfully installed biopandas-0.2.7\n",
      "Note: you may need to restart the kernel to use updated packages.\n"
     ]
    }
   ],
   "source": []
  },
  {
   "cell_type": "code",
   "execution_count": 9,
   "metadata": {},
   "outputs": [
    {
     "ename": "NameError",
     "evalue": "name 'pip3' is not defined",
     "output_type": "error",
     "traceback": [
      "\u001b[0;31m---------------------------------------------------------------------------\u001b[0m",
      "\u001b[0;31mNameError\u001b[0m                                 Traceback (most recent call last)",
      "\u001b[0;32m<ipython-input-9-8fa0e15ea08f>\u001b[0m in \u001b[0;36m<module>\u001b[0;34m\u001b[0m\n\u001b[0;32m----> 1\u001b[0;31m \u001b[0mpip3\u001b[0m \u001b[0;34m-\u001b[0m\u001b[0;34m-\u001b[0m\u001b[0mversion\u001b[0m\u001b[0;34m\u001b[0m\u001b[0;34m\u001b[0m\u001b[0m\n\u001b[0m",
      "\u001b[0;31mNameError\u001b[0m: name 'pip3' is not defined"
     ]
    }
   ],
   "source": []
  },
  {
   "cell_type": "code",
   "execution_count": null,
   "metadata": {},
   "outputs": [],
   "source": []
  }
 ],
 "metadata": {
  "kernelspec": {
   "display_name": "Python 3",
   "language": "python",
   "name": "python3"
  },
  "language_info": {
   "codemirror_mode": {
    "name": "ipython",
    "version": 3
   },
   "file_extension": ".py",
   "mimetype": "text/x-python",
   "name": "python",
   "nbconvert_exporter": "python",
   "pygments_lexer": "ipython3",
   "version": "3.7.6"
  }
 },
 "nbformat": 4,
 "nbformat_minor": 4
}
