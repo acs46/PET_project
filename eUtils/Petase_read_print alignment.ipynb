{
 "cells": [
  {
   "cell_type": "code",
   "execution_count": 5,
   "metadata": {
    "collapsed": false
   },
   "outputs": [
    {
     "name": "stdout",
     "output_type": "stream",
     "text": [
      "Alignment Length 338\n",
      "M--NFPRA---------------SR--------------LMQAAVLGGLMAVSAAATAQT - pdb|6EQD|A\n",
      "M--HLPRS---------------RWDIPFKEETTMTHHFSVRALLAAGALLASAAVSAQT - dbj|BAB86909.1\n",
      "MPPDCVLP---------------RR--------------LAAAALLASATLVPLSAAAQT - ref|WP_047194864.1\n",
      "MFGKLPFA---------------------------------RASLAVGALLLSAAAVAQT - ref|WP_085749752.1\n",
      "M-QQNPHTHAAPGAARPVLRGVRRR---------LAAVTAAVAAVLVLGTLTGPGAQAAD - ref|NP_625018.1\n",
      "\n",
      "NPYARGPNPTAASLEASAGPFTVRSFTVSR--PSGYGAGTVYYPTNAG-GTVGAIAIVPG - pdb|6EQD|A\n",
      "NPYERGPAPTTSSLEASRGPFSYQSFTVSR--PSGYRAGTVYYPTNAG-GPVGAIAIVPG - dbj|BAB86909.1\n",
      "NPYQRGPDPTTRDLEDSRGPFRYASTNVRS--PSGYGAGTIYYPTDVS-GSVGAVAVVPG - ref|WP_047194864.1\n",
      "NPYQRGPDPTVSSLEATRGPFSTSSFTVSR--PSGYGAGTVYYPTNAG-GKVGAIAVVPG - ref|WP_085749752.1\n",
      "NPYERGPAPTESSIEALRGPYSVADTSVSSLAVTGFGGGTIYYPTSTSDGTFGAVVIAPG - ref|NP_625018.1\n",
      "\n",
      "YTARQSSIKWWGPRLASHGFVVITIDTNSTLDQPSSRSSQQMAALRQVASLNGTSSSPIY - pdb|6EQD|A\n",
      "FTARQSSINWWGPRLASHGFVVITIDTNSTLDQPDSRSRQQMAALSQVATLSRTSSSPIY - dbj|BAB86909.1\n",
      "YLARQSSIRWWGPRLASHGFVVITLDTRSTSDQPASRSAQQMAALRQVVALSETRSSPIY - ref|WP_047194864.1\n",
      "YTARQSSINWWGPRLASHGFVVITIDTNSTLDQPSSRSSQQMAALRQVVSLAGTSSSPIY - ref|WP_085749752.1\n",
      "FTAYQSSIAWLGPRLASQGFVVFTIDTNTTLDQPDSRGRQLLAALDYL-----TGRSSVR - ref|NP_625018.1\n",
      "\n",
      "GKVDTARMGVMGWSMGGGGSLISAANNPSLKAAAPQAPWDSSTNFSSVTVPTLIFACEND - pdb|6EQD|A\n",
      "NKVDTSRLGVMGWSMGGGGSLISARNNPSIKAAAPQAPWSASKNFSSLTVPTLIIACEND - dbj|BAB86909.1\n",
      "GKVDPNRLAVMGWSMGGGGTLISARDNPSLKAAVPFAPWHNTANFSGVQVPTLVIACEND - ref|WP_047194864.1\n",
      "NKVDTARLGVMGWSMGGGGSLISAKNNPSLRAAAPQAPW-AQESFSSVTVPTLIVSCEND - ref|WP_085749752.1\n",
      "GRIDSGRLGVMGHSMGGGGTLEAAKSRPSLQAAIPLTPWNLDKSWPEVSTPTLVVGADGD - ref|NP_625018.1\n",
      "\n",
      "SIAPVNSSALPIYDSMSRN-AKQFLEINGGSHSCANSGNSNQALIGKKGVAWMKRFMDND - pdb|6EQD|A\n",
      "TIAPVNQHADTFYDSMSRN-PREFLEINNGSHSCANSGNSNQALLGKKGVAWMKRFMDND - dbj|BAB86909.1\n",
      "TVAPISRHASSFYNSFSSSLAKAYLEINNGSHTCANTGNSNQALIGKYGVAWIKRFVDND - ref|WP_047194864.1\n",
      "SIAPNSSHSFPFYNQMTRN-KKANLVINGGSHSCANSGNSDAGLIGKYGVAWMKRFMDDD - ref|WP_085749752.1\n",
      "TIAPVASHAEPFYSGLPSSTDRAYLELNNATHFSPNTSNTT---IAKYSISWLKRFIDDD - ref|NP_625018.1\n",
      "\n",
      "TRYSTFACENPN-----STRVSDFRTANCSLEHHHHHH - pdb|6EQD|A\n",
      "RRYTSFACSNPN-----SYNVSDFRVAACN-------- - dbj|BAB86909.1\n",
      "TRYSPFLCGAPHQADLRSSRLSEYR-ESCPY------- - ref|WP_047194864.1\n",
      "TRYSKFLCGAEHQADL-SKRAVEAYKENCPY------- - ref|WP_085749752.1\n",
      "TRYEQFLCPLPRP----SLTIEEYR-GNCPHGS----- - ref|NP_625018.1\n",
      "\n"
     ]
    }
   ],
   "source": [
    "from Bio import AlignIO\n",
    "\n",
    "alignment = AlignIO.read(open(\"sequences/cobaltAlign_smart_blastPetase_related_seqs.txt\"), \"fasta\")\n",
    "alength = alignment.get_alignment_length()\n",
    "\n",
    "print(\"Alignment Length %i\" % alength)\n",
    "\n",
    "numloops = alength//60+1\n",
    "start = 0\n",
    "#print(alignment)\n",
    "\n",
    "for loop in range(numloops):\n",
    "  for record in alignment:\n",
    "    print(\"%s - %s\" % (record.seq[start:start+60], record.id))\n",
    "  print(\"\")\n",
    "  start += 60\n"
   ]
  }
 ],
 "metadata": {
  "kernelspec": {
   "display_name": "Python 3",
   "language": "python",
   "name": "python3"
  },
  "language_info": {
   "codemirror_mode": {
    "name": "ipython",
    "version": 3
   },
   "file_extension": ".py",
   "mimetype": "text/x-python",
   "name": "python",
   "nbconvert_exporter": "python",
   "pygments_lexer": "ipython3",
   "version": "3.6.0"
  }
 },
 "nbformat": 4,
 "nbformat_minor": 2
}
